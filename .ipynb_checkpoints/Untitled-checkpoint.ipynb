{
 "cells": [
  {
   "cell_type": "code",
   "execution_count": 4,
   "metadata": {
    "collapsed": false
   },
   "outputs": [
    {
     "name": "stdout",
     "output_type": "stream",
     "text": [
      "[[ array([[[ 1.,  1.,  1.],\n",
      "        [ 1.,  1.,  1.]],\n",
      "\n",
      "       [[ 1.,  1.,  1.],\n",
      "        [ 1.,  1.,  1.]]])\n",
      "  [0, 1, 2, 3] [1, -1]\n",
      "  array([[[ 1.,  1.,  1.],\n",
      "        [ 1.,  1.,  1.]],\n",
      "\n",
      "       [[ 1.,  1.,  1.],\n",
      "        [ 1.,  1.,  1.]]])\n",
      "  True]]\n",
      "[[ True  True  True  True  True]]\n"
     ]
    },
    {
     "name": "stderr",
     "output_type": "stream",
     "text": [
      "D:\\ProgramData\\anaconda\\lib\\site-packages\\ipykernel\\__main__.py:10: DeprecationWarning: numpy equal will not check object identity in the future. The error trying to get the boolean value of the comparison result will be raised.\n"
     ]
    }
   ],
   "source": [
    "import numpy as np\n",
    "s=np.ones([2,2,3])\n",
    "a=[0,1,2,3]\n",
    "r=[1,-1]\n",
    "s1=s\n",
    "d=True\n",
    "\n",
    "result=np.reshape(np.array([s,a,r,s1,d]),[1,5])\n",
    "print(result)\n",
    "print(np.array([s,a,r,s1,d])==result)"
   ]
  },
  {
   "cell_type": "code",
   "execution_count": 37,
   "metadata": {
    "collapsed": false
   },
   "outputs": [
    {
     "name": "stdout",
     "output_type": "stream",
     "text": [
      "[ 0.  0.  0.  0.  0.  0.  0.  0.  0.  0.  0.  0.  0.  0.  0.  0.  0.  0.\n",
      "  0.  0.  0.  0.  0.  0.  0.  0.  0.  0.  0.  0.  0.  0.]\n",
      "[0, 0, 1, 0, 1, 0, 0, 1, 1, 0, 0, 1, 0, 0, 1, 1, 0, 1, 1, 1, 1, 0, 0, 1, 1, 0, 1, 0, 1, 1, 1, 0]\n"
     ]
    }
   ],
   "source": [
    "import tensorflow as tf\n",
    "batch_size=32\n",
    "A=np.random.rand(batch_size)\n",
    "A=A>0.5\n",
    "# A=tf.ones(batch_size)\n",
    "Q=tf.zeros(batch_size)\n",
    "# print(A,Q)\n",
    "# doubleQ = Q[range(batch_size)]\n",
    "print(doubleQ)\n",
    "\n",
    "A=[1 if x>0.5 else 0 for x in np.random.rand(32)]\n",
    "print(A)"
   ]
  },
  {
   "cell_type": "code",
   "execution_count": null,
   "metadata": {
    "collapsed": true
   },
   "outputs": [],
   "source": [
    "import itertools\n",
    "import numpy as np\n",
    "iterables = [range(4),range(4)]\n",
    "points = []\n",
    "for t in itertools.product(range(4),range(4)):\n",
    "    points.append(t)\n",
    "points.remove((1,1))    \n",
    "# print(\"points:\",points)\n",
    "\n",
    "a = np.ones([4,4,3])\n",
    "a[1:-1,1:-1,:] = 0\n",
    "# print(\"a:\",a)\n",
    "\n",
    "import tensorflow as tf\n",
    "a = tf.ones([4,2,2,3])\n",
    "streamA=tf.contrib.layers.flatten(a)\n",
    "# sess=tf.InteractiveSession()\n",
    "print(\"a:\",streamA)"
   ]
  }
 ],
 "metadata": {
  "kernelspec": {
   "display_name": "Python [conda root]",
   "language": "python",
   "name": "conda-root-py"
  },
  "language_info": {
   "codemirror_mode": {
    "name": "ipython",
    "version": 3
   },
   "file_extension": ".py",
   "mimetype": "text/x-python",
   "name": "python",
   "nbconvert_exporter": "python",
   "pygments_lexer": "ipython3",
   "version": "3.5.2"
  }
 },
 "nbformat": 4,
 "nbformat_minor": 1
}
